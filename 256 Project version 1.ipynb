{
 "cells": [
  {
   "cell_type": "code",
   "execution_count": 1,
   "metadata": {},
   "outputs": [],
   "source": [
    "import pandas as pd\n",
    "import matplotlib.pyplot as plt\n",
    "import numpy as np\n",
    "import seaborn\n",
    "from scipy.stats import poisson,skellam\n",
    "\n"
   ]
  },
  {
   "cell_type": "code",
   "execution_count": 2,
   "metadata": {},
   "outputs": [
    {
     "data": {
      "text/html": [
       "<div>\n",
       "<style scoped>\n",
       "    .dataframe tbody tr th:only-of-type {\n",
       "        vertical-align: middle;\n",
       "    }\n",
       "\n",
       "    .dataframe tbody tr th {\n",
       "        vertical-align: top;\n",
       "    }\n",
       "\n",
       "    .dataframe thead th {\n",
       "        text-align: right;\n",
       "    }\n",
       "</style>\n",
       "<table border=\"1\" class=\"dataframe\">\n",
       "  <thead>\n",
       "    <tr style=\"text-align: right;\">\n",
       "      <th></th>\n",
       "      <th>home_team_id</th>\n",
       "      <th>away_team_id</th>\n",
       "      <th>HomeGoals</th>\n",
       "      <th>AwayGoals</th>\n",
       "    </tr>\n",
       "  </thead>\n",
       "  <tbody>\n",
       "    <tr>\n",
       "      <th>6652</th>\n",
       "      <td>10</td>\n",
       "      <td>52</td>\n",
       "      <td>2</td>\n",
       "      <td>4</td>\n",
       "    </tr>\n",
       "    <tr>\n",
       "      <th>2120</th>\n",
       "      <td>17</td>\n",
       "      <td>2</td>\n",
       "      <td>1</td>\n",
       "      <td>3</td>\n",
       "    </tr>\n",
       "    <tr>\n",
       "      <th>2973</th>\n",
       "      <td>18</td>\n",
       "      <td>25</td>\n",
       "      <td>2</td>\n",
       "      <td>5</td>\n",
       "    </tr>\n",
       "    <tr>\n",
       "      <th>1819</th>\n",
       "      <td>25</td>\n",
       "      <td>16</td>\n",
       "      <td>2</td>\n",
       "      <td>3</td>\n",
       "    </tr>\n",
       "    <tr>\n",
       "      <th>3213</th>\n",
       "      <td>1</td>\n",
       "      <td>15</td>\n",
       "      <td>2</td>\n",
       "      <td>1</td>\n",
       "    </tr>\n",
       "  </tbody>\n",
       "</table>\n",
       "</div>"
      ],
      "text/plain": [
       "      home_team_id  away_team_id  HomeGoals  AwayGoals\n",
       "6652            10            52          2          4\n",
       "2120            17             2          1          3\n",
       "2973            18            25          2          5\n",
       "1819            25            16          2          3\n",
       "3213             1            15          2          1"
      ]
     },
     "execution_count": 2,
     "metadata": {},
     "output_type": "execute_result"
    }
   ],
   "source": [
    "from sklearn.model_selection import train_test_split\n",
    "\n",
    "gamedata = pd.read_csv('/Users/mgor/Downloads/game.csv', error_bad_lines=False)\n",
    "gamedata = gamedata[['home_team_id','away_team_id','home_goals','away_goals']]\n",
    "train, test = train_test_split(gamedata, test_size=0.1)\n",
    "gamedata = train\n",
    "# print(type(train))\n",
    "# print(train)\n",
    "# print(test)\n",
    "# print(next(test.iterrows())[1])\n",
    "gamedata = gamedata.rename(columns={'home_goals': 'HomeGoals', 'away_goals': 'AwayGoals'})\n",
    "gamedata.head()"
   ]
  },
  {
   "cell_type": "code",
   "execution_count": 3,
   "metadata": {},
   "outputs": [
    {
     "data": {
      "text/html": [
       "<table class=\"simpletable\">\n",
       "<caption>Generalized Linear Model Regression Results</caption>\n",
       "<tr>\n",
       "  <th>Dep. Variable:</th>        <td>goals</td>      <th>  No. Observations:  </th>  <td> 13392</td>  \n",
       "</tr>\n",
       "<tr>\n",
       "  <th>Model:</th>                 <td>GLM</td>       <th>  Df Residuals:      </th>  <td> 13388</td>  \n",
       "</tr>\n",
       "<tr>\n",
       "  <th>Model Family:</th>        <td>Poisson</td>     <th>  Df Model:          </th>  <td>     3</td>  \n",
       "</tr>\n",
       "<tr>\n",
       "  <th>Link Function:</th>         <td>log</td>       <th>  Scale:             </th> <td>  1.0000</td> \n",
       "</tr>\n",
       "<tr>\n",
       "  <th>Method:</th>               <td>IRLS</td>       <th>  Log-Likelihood:    </th> <td> -25025.</td> \n",
       "</tr>\n",
       "<tr>\n",
       "  <th>Date:</th>           <td>Fri, 16 Nov 2018</td> <th>  Deviance:          </th> <td>  14292.</td> \n",
       "</tr>\n",
       "<tr>\n",
       "  <th>Time:</th>               <td>22:05:40</td>     <th>  Pearson chi2:      </th> <td>1.25e+04</td> \n",
       "</tr>\n",
       "<tr>\n",
       "  <th>No. Iterations:</th>         <td>4</td>        <th>  Covariance Type:   </th> <td>nonrobust</td>\n",
       "</tr>\n",
       "</table>\n",
       "<table class=\"simpletable\">\n",
       "<tr>\n",
       "      <td></td>         <th>coef</th>     <th>std err</th>      <th>z</th>      <th>P>|z|</th>  <th>[0.025</th>    <th>0.975]</th>  \n",
       "</tr>\n",
       "<tr>\n",
       "  <th>Intercept</th> <td>    0.9618</td> <td>    0.012</td> <td>   77.252</td> <td> 0.000</td> <td>    0.937</td> <td>    0.986</td>\n",
       "</tr>\n",
       "<tr>\n",
       "  <th>home</th>      <td>    0.0995</td> <td>    0.010</td> <td>    9.556</td> <td> 0.000</td> <td>    0.079</td> <td>    0.120</td>\n",
       "</tr>\n",
       "<tr>\n",
       "  <th>team</th>      <td>   -0.0002</td> <td>    0.000</td> <td>   -0.362</td> <td> 0.717</td> <td>   -0.001</td> <td>    0.001</td>\n",
       "</tr>\n",
       "<tr>\n",
       "  <th>opponent</th>  <td>    0.0004</td> <td>    0.000</td> <td>    0.874</td> <td> 0.382</td> <td>   -0.000</td> <td>    0.001</td>\n",
       "</tr>\n",
       "</table>"
      ],
      "text/plain": [
       "<class 'statsmodels.iolib.summary.Summary'>\n",
       "\"\"\"\n",
       "                 Generalized Linear Model Regression Results                  \n",
       "==============================================================================\n",
       "Dep. Variable:                  goals   No. Observations:                13392\n",
       "Model:                            GLM   Df Residuals:                    13388\n",
       "Model Family:                 Poisson   Df Model:                            3\n",
       "Link Function:                    log   Scale:                          1.0000\n",
       "Method:                          IRLS   Log-Likelihood:                -25025.\n",
       "Date:                Fri, 16 Nov 2018   Deviance:                       14292.\n",
       "Time:                        22:05:40   Pearson chi2:                 1.25e+04\n",
       "No. Iterations:                     4   Covariance Type:             nonrobust\n",
       "==============================================================================\n",
       "                 coef    std err          z      P>|z|      [0.025      0.975]\n",
       "------------------------------------------------------------------------------\n",
       "Intercept      0.9618      0.012     77.252      0.000       0.937       0.986\n",
       "home           0.0995      0.010      9.556      0.000       0.079       0.120\n",
       "team          -0.0002      0.000     -0.362      0.717      -0.001       0.001\n",
       "opponent       0.0004      0.000      0.874      0.382      -0.000       0.001\n",
       "==============================================================================\n",
       "\"\"\""
      ]
     },
     "execution_count": 3,
     "metadata": {},
     "output_type": "execute_result"
    }
   ],
   "source": [
    "import statsmodels.api as sm\n",
    "import statsmodels.formula.api as smf\n",
    "\n",
    "goal_model_data = pd.concat([gamedata[['home_team_id','away_team_id','HomeGoals']].assign(home=1).rename(\n",
    "            columns={'home_team_id':'team', 'away_team_id':'opponent','HomeGoals':'goals'}),\n",
    "           gamedata[['away_team_id','home_team_id','AwayGoals']].assign(home=0).rename(\n",
    "            columns={'away_team_id':'team', 'home_team_id':'opponent','AwayGoals':'goals'})])\n",
    "\n",
    "poisson_model = smf.glm(formula=\"goals ~ home + team + opponent\", data=goal_model_data, \n",
    "                        family=sm.families.Poisson()).fit()\n",
    "poisson_model.summary()"
   ]
  },
  {
   "cell_type": "code",
   "execution_count": 4,
   "metadata": {},
   "outputs": [
    {
     "name": "stdout",
     "output_type": "stream",
     "text": [
      "2.965892159966072\n",
      "2.655573375782476\n"
     ]
    }
   ],
   "source": [
    "from sklearn.metrics import mean_squared_error\n",
    "\n",
    "actuals_home = []\n",
    "predictions_home = []\n",
    "actuals_away = []\n",
    "predictions_away = []\n",
    "for row in test.iterrows():\n",
    "#     print(row[1].home_team_id)\n",
    "#     print(poisson_model.predict(pd.DataFrame(data={'team': row[1].home_team_id, 'opponent': row[1].away_team_id,\n",
    "#                                        'home':1},index=[1])).values)\n",
    "    actuals_home.append(row[1].home_goals)\n",
    "    actuals_away.append(row[1].away_goals)\n",
    "    predictions_home.append(poisson_model.predict(pd.DataFrame(data={'team': row[1].home_team_id, 'opponent': row[1].away_team_id,\n",
    "                                       'home':1},index=[1])).values[0])\n",
    "    predictions_away.append(poisson_model.predict(pd.DataFrame(data={'team': row[1].away_team_id, 'opponent': row[1].home_team_id,\n",
    "                                       'home':0},index=[1])).values[0])\n",
    "    \n",
    "    \n",
    "\n",
    "print(mean_squared_error(actuals_home, predictions_home))\n",
    "print(mean_squared_error(actuals_away, predictions_away))"
   ]
  }
 ],
 "metadata": {
  "kernelspec": {
   "display_name": "Python 3",
   "language": "python",
   "name": "python3"
  },
  "language_info": {
   "codemirror_mode": {
    "name": "ipython",
    "version": 3
   },
   "file_extension": ".py",
   "mimetype": "text/x-python",
   "name": "python",
   "nbconvert_exporter": "python",
   "pygments_lexer": "ipython3",
   "version": "3.6.5"
  }
 },
 "nbformat": 4,
 "nbformat_minor": 2
}
