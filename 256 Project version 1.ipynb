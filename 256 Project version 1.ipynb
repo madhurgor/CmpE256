{
 "cells": [
  {
   "cell_type": "code",
   "execution_count": 1,
   "metadata": {},
   "outputs": [],
   "source": [
    "import pandas as pd\n",
    "import matplotlib.pyplot as plt\n",
    "import numpy as np\n",
    "import seaborn\n",
    "from scipy.stats import poisson,skellam\n",
    "\n"
   ]
  },
  {
   "cell_type": "code",
   "execution_count": 2,
   "metadata": {},
   "outputs": [
    {
     "data": {
      "text/html": [
       "<div>\n",
       "<style scoped>\n",
       "    .dataframe tbody tr th:only-of-type {\n",
       "        vertical-align: middle;\n",
       "    }\n",
       "\n",
       "    .dataframe tbody tr th {\n",
       "        vertical-align: top;\n",
       "    }\n",
       "\n",
       "    .dataframe thead th {\n",
       "        text-align: right;\n",
       "    }\n",
       "</style>\n",
       "<table border=\"1\" class=\"dataframe\">\n",
       "  <thead>\n",
       "    <tr style=\"text-align: right;\">\n",
       "      <th></th>\n",
       "      <th>home_team_id</th>\n",
       "      <th>away_team_id</th>\n",
       "      <th>HomeGoals</th>\n",
       "      <th>AwayGoals</th>\n",
       "    </tr>\n",
       "  </thead>\n",
       "  <tbody>\n",
       "    <tr>\n",
       "      <th>5413</th>\n",
       "      <td>25</td>\n",
       "      <td>16</td>\n",
       "      <td>4</td>\n",
       "      <td>0</td>\n",
       "    </tr>\n",
       "    <tr>\n",
       "      <th>351</th>\n",
       "      <td>2</td>\n",
       "      <td>13</td>\n",
       "      <td>5</td>\n",
       "      <td>2</td>\n",
       "    </tr>\n",
       "    <tr>\n",
       "      <th>3738</th>\n",
       "      <td>17</td>\n",
       "      <td>52</td>\n",
       "      <td>4</td>\n",
       "      <td>5</td>\n",
       "    </tr>\n",
       "    <tr>\n",
       "      <th>5466</th>\n",
       "      <td>22</td>\n",
       "      <td>19</td>\n",
       "      <td>3</td>\n",
       "      <td>2</td>\n",
       "    </tr>\n",
       "    <tr>\n",
       "      <th>402</th>\n",
       "      <td>26</td>\n",
       "      <td>29</td>\n",
       "      <td>2</td>\n",
       "      <td>1</td>\n",
       "    </tr>\n",
       "  </tbody>\n",
       "</table>\n",
       "</div>"
      ],
      "text/plain": [
       "      home_team_id  away_team_id  HomeGoals  AwayGoals\n",
       "5413            25            16          4          0\n",
       "351              2            13          5          2\n",
       "3738            17            52          4          5\n",
       "5466            22            19          3          2\n",
       "402             26            29          2          1"
      ]
     },
     "execution_count": 2,
     "metadata": {},
     "output_type": "execute_result"
    }
   ],
   "source": [
    "from sklearn.model_selection import train_test_split\n",
    "\n",
    "gamedata = pd.read_csv('/Users/mgor/Downloads/game.csv', error_bad_lines=False)\n",
    "gamedata = gamedata[['home_team_id','away_team_id','home_goals','away_goals']]\n",
    "train, test = train_test_split(gamedata, test_size=0.1)\n",
    "gamedata = train\n",
    "# print(type(train))\n",
    "# print(train)\n",
    "# print(test)\n",
    "# print(next(test.iterrows())[1])\n",
    "gamedata = gamedata.rename(columns={'home_goals': 'HomeGoals', 'away_goals': 'AwayGoals'})\n",
    "gamedata.head()"
   ]
  },
  {
   "cell_type": "code",
   "execution_count": 3,
   "metadata": {},
   "outputs": [
    {
     "data": {
      "text/html": [
       "<table class=\"simpletable\">\n",
       "<caption>Generalized Linear Model Regression Results</caption>\n",
       "<tr>\n",
       "  <th>Dep. Variable:</th>        <td>goals</td>      <th>  No. Observations:  </th>  <td> 13392</td>  \n",
       "</tr>\n",
       "<tr>\n",
       "  <th>Model:</th>                 <td>GLM</td>       <th>  Df Residuals:      </th>  <td> 13388</td>  \n",
       "</tr>\n",
       "<tr>\n",
       "  <th>Model Family:</th>        <td>Poisson</td>     <th>  Df Model:          </th>  <td>     3</td>  \n",
       "</tr>\n",
       "<tr>\n",
       "  <th>Link Function:</th>         <td>log</td>       <th>  Scale:             </th> <td>  1.0000</td> \n",
       "</tr>\n",
       "<tr>\n",
       "  <th>Method:</th>               <td>IRLS</td>       <th>  Log-Likelihood:    </th> <td> -25104.</td> \n",
       "</tr>\n",
       "<tr>\n",
       "  <th>Date:</th>           <td>Sat, 17 Nov 2018</td> <th>  Deviance:          </th> <td>  14420.</td> \n",
       "</tr>\n",
       "<tr>\n",
       "  <th>Time:</th>               <td>14:49:28</td>     <th>  Pearson chi2:      </th> <td>1.26e+04</td> \n",
       "</tr>\n",
       "<tr>\n",
       "  <th>No. Iterations:</th>         <td>4</td>        <th>  Covariance Type:   </th> <td>nonrobust</td>\n",
       "</tr>\n",
       "</table>\n",
       "<table class=\"simpletable\">\n",
       "<tr>\n",
       "      <td></td>         <th>coef</th>     <th>std err</th>      <th>z</th>      <th>P>|z|</th>  <th>[0.025</th>    <th>0.975]</th>  \n",
       "</tr>\n",
       "<tr>\n",
       "  <th>Intercept</th> <td>    0.9689</td> <td>    0.012</td> <td>   77.881</td> <td> 0.000</td> <td>    0.945</td> <td>    0.993</td>\n",
       "</tr>\n",
       "<tr>\n",
       "  <th>home</th>      <td>    0.0970</td> <td>    0.010</td> <td>    9.339</td> <td> 0.000</td> <td>    0.077</td> <td>    0.117</td>\n",
       "</tr>\n",
       "<tr>\n",
       "  <th>team</th>      <td> 9.977e-05</td> <td>    0.000</td> <td>    0.234</td> <td> 0.815</td> <td>   -0.001</td> <td>    0.001</td>\n",
       "</tr>\n",
       "<tr>\n",
       "  <th>opponent</th>  <td> 9.188e-06</td> <td>    0.000</td> <td>    0.021</td> <td> 0.983</td> <td>   -0.001</td> <td>    0.001</td>\n",
       "</tr>\n",
       "</table>"
      ],
      "text/plain": [
       "<class 'statsmodels.iolib.summary.Summary'>\n",
       "\"\"\"\n",
       "                 Generalized Linear Model Regression Results                  \n",
       "==============================================================================\n",
       "Dep. Variable:                  goals   No. Observations:                13392\n",
       "Model:                            GLM   Df Residuals:                    13388\n",
       "Model Family:                 Poisson   Df Model:                            3\n",
       "Link Function:                    log   Scale:                          1.0000\n",
       "Method:                          IRLS   Log-Likelihood:                -25104.\n",
       "Date:                Sat, 17 Nov 2018   Deviance:                       14420.\n",
       "Time:                        14:49:28   Pearson chi2:                 1.26e+04\n",
       "No. Iterations:                     4   Covariance Type:             nonrobust\n",
       "==============================================================================\n",
       "                 coef    std err          z      P>|z|      [0.025      0.975]\n",
       "------------------------------------------------------------------------------\n",
       "Intercept      0.9689      0.012     77.881      0.000       0.945       0.993\n",
       "home           0.0970      0.010      9.339      0.000       0.077       0.117\n",
       "team        9.977e-05      0.000      0.234      0.815      -0.001       0.001\n",
       "opponent    9.188e-06      0.000      0.021      0.983      -0.001       0.001\n",
       "==============================================================================\n",
       "\"\"\""
      ]
     },
     "execution_count": 3,
     "metadata": {},
     "output_type": "execute_result"
    }
   ],
   "source": [
    "import statsmodels.api as sm\n",
    "import statsmodels.formula.api as smf\n",
    "\n",
    "goal_model_data = pd.concat([gamedata[['home_team_id','away_team_id','HomeGoals']].assign(home=1).rename(\n",
    "            columns={'home_team_id':'team', 'away_team_id':'opponent','HomeGoals':'goals'}),\n",
    "           gamedata[['away_team_id','home_team_id','AwayGoals']].assign(home=0).rename(\n",
    "            columns={'away_team_id':'team', 'home_team_id':'opponent','AwayGoals':'goals'})])\n",
    "\n",
    "poisson_model = smf.glm(formula=\"goals ~ home + team + opponent\", data=goal_model_data, \n",
    "                        family=sm.families.Poisson()).fit()\n",
    "poisson_model.summary()"
   ]
  },
  {
   "cell_type": "code",
   "execution_count": 11,
   "metadata": {
    "scrolled": false
   },
   "outputs": [
    {
     "name": "stdout",
     "output_type": "stream",
     "text": [
      "2.6384579668120276\n",
      "2.372759920693785\n",
      "0\n",
      "745\n"
     ]
    }
   ],
   "source": [
    "from sklearn.metrics import mean_squared_error\n",
    "\n",
    "actuals_home = []\n",
    "predictions_home = []\n",
    "actuals_away = []\n",
    "predictions_away = []\n",
    "hit = 0\n",
    "miss = 0\n",
    "for row in test.iterrows():\n",
    "#     print(row[1].home_team_id)\n",
    "#     print(poisson_model.predict(pd.DataFrame(data={'team': row[1].home_team_id, 'opponent': row[1].away_team_id,\n",
    "#                                        'home':1},index=[1])).values)\n",
    "    actuals_home.append(row[1].home_goals)\n",
    "    actuals_away.append(row[1].away_goals)\n",
    "    predictions_home.append(poisson_model.predict(pd.DataFrame(data={'team': row[1].home_team_id, 'opponent': row[1].away_team_id,\n",
    "                                       'home':1},index=[1])).values[0])\n",
    "    predictions_away.append(poisson_model.predict(pd.DataFrame(data={'team': row[1].away_team_id, 'opponent': row[1].home_team_id,\n",
    "                                       'home':0},index=[1])).values[0])\n",
    "    if ((row[1].home_goals > row[1].away_goals and round(predictions_home[len(predictions_home)-1]) > round(predictions_away[len(predictions_home)-1])) or (row[1].home_goals < row[1].away_goals and round(predictions_home[len(predictions_home)-1]) < round(predictions_away[len(predictions_home)-1])) or (row[1].home_goals == row[1].away_goals and round(predictions_home[len(predictions_home)-1]) == round(predictions_away[len(predictions_home)-1]))):\n",
    "        hit += 1\n",
    "    else:\n",
    "        miss +=1\n",
    "    \n",
    "\n",
    "print(mean_squared_error(actuals_home, predictions_home))\n",
    "print(mean_squared_error(actuals_away, predictions_away))\n",
    "print(hit)\n",
    "print(miss)"
   ]
  },
  {
   "cell_type": "code",
   "execution_count": 13,
   "metadata": {},
   "outputs": [],
   "source": [
    "def simulate_match(foot_model, homeTeam, awayTeam, max_goals=10):\n",
    "    home_goals_avg = foot_model.predict(pd.DataFrame(data={'team': homeTeam, \n",
    "                                                            'opponent': awayTeam,'home':1},\n",
    "                                                      index=[1])).values[0]\n",
    "    away_goals_avg = foot_model.predict(pd.DataFrame(data={'team': awayTeam, \n",
    "                                                            'opponent': homeTeam,'home':0},\n",
    "                                                      index=[1])).values[0]\n",
    "    team_pred = [[poisson.pmf(i, team_avg) for i in range(0, max_goals+1)] for team_avg in [home_goals_avg, away_goals_avg]]\n",
    "    return(np.outer(np.array(team_pred[0]), np.array(team_pred[1])))"
   ]
  },
  {
   "cell_type": "code",
   "execution_count": 15,
   "metadata": {},
   "outputs": [
    {
     "name": "stdout",
     "output_type": "stream",
     "text": [
      "333\n",
      "412\n"
     ]
    }
   ],
   "source": [
    "hit = 0\n",
    "miss = 0\n",
    "for row in test.iterrows():\n",
    "    temp = simulate_match(poisson_model, row[1].home_team_id, row[1].away_team_id)\n",
    "    home = np.sum(np.tril(temp, -1))\n",
    "    draw = np.sum(np.tril(temp))\n",
    "    away = np.sum(np.tril(temp, 1))\n",
    "    if ((home > draw and home > away and row[1].home_goals > row[1].away_goals) or (away > home and away > draw and row[1].home_goals < row[1].away_goals) or (draw > home and draw > away and row[1].home_goals == row[1].away_goals)):\n",
    "        hit += 1\n",
    "    else:\n",
    "        miss += 1\n",
    "\n",
    "print(hit)\n",
    "print(miss)"
   ]
  },
  {
   "cell_type": "code",
   "execution_count": null,
   "metadata": {},
   "outputs": [],
   "source": []
  }
 ],
 "metadata": {
  "kernelspec": {
   "display_name": "Python 3",
   "language": "python",
   "name": "python3"
  },
  "language_info": {
   "codemirror_mode": {
    "name": "ipython",
    "version": 3
   },
   "file_extension": ".py",
   "mimetype": "text/x-python",
   "name": "python",
   "nbconvert_exporter": "python",
   "pygments_lexer": "ipython3",
   "version": "3.6.5"
  }
 },
 "nbformat": 4,
 "nbformat_minor": 2
}
